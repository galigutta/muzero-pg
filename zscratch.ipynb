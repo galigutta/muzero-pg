{
 "cells": [
  {
   "cell_type": "code",
   "execution_count": 4,
   "metadata": {},
   "outputs": [
    {
     "name": "stdout",
     "output_type": "stream",
     "text": [
      "Slots status: [nan, nan, nan, nan, nan, 0, 0, 0, 0, 0]\n",
      "step count:  0\n",
      "legal actions:  [5, 6]\n"
     ]
    },
    {
     "ename": "KeyboardInterrupt",
     "evalue": "Interrupted by user",
     "output_type": "error",
     "traceback": [
      "\u001b[0;31m---------------------------------------------------------------------------\u001b[0m",
      "\u001b[0;31mKeyboardInterrupt\u001b[0m                         Traceback (most recent call last)",
      "Cell \u001b[0;32mIn[4], line 29\u001b[0m\n\u001b[1;32m     27\u001b[0m done \u001b[39m=\u001b[39m \u001b[39mFalse\u001b[39;00m\n\u001b[1;32m     28\u001b[0m \u001b[39mwhile\u001b[39;00m \u001b[39mnot\u001b[39;00m done:\n\u001b[0;32m---> 29\u001b[0m     action \u001b[39m=\u001b[39m env\u001b[39m.\u001b[39;49mhuman_to_action()\n\u001b[1;32m     30\u001b[0m     observation, reward, done \u001b[39m=\u001b[39m env\u001b[39m.\u001b[39mstep(action)\n\u001b[1;32m     31\u001b[0m     \u001b[39mprint\u001b[39m(\u001b[39mf\u001b[39m\u001b[39m\"\u001b[39m\u001b[39m\\n\u001b[39;00m\u001b[39mAction: \u001b[39m\u001b[39m{\u001b[39;00menv\u001b[39m.\u001b[39maction_to_string(action)\u001b[39m}\u001b[39;00m\u001b[39m\\n\u001b[39;00m\u001b[39mReward: \u001b[39m\u001b[39m{\u001b[39;00mreward\u001b[39m}\u001b[39;00m\u001b[39m\"\u001b[39m)\n",
      "File \u001b[0;32m~/muzero-pg/games/traderdegen.py:215\u001b[0m, in \u001b[0;36mGame.human_to_action\u001b[0;34m(self)\u001b[0m\n\u001b[1;32m    214\u001b[0m \u001b[39mdef\u001b[39;00m \u001b[39mhuman_to_action\u001b[39m(\u001b[39mself\u001b[39m):\n\u001b[0;32m--> 215\u001b[0m     \u001b[39mreturn\u001b[39;00m \u001b[39mself\u001b[39;49m\u001b[39m.\u001b[39;49menv\u001b[39m.\u001b[39;49mhuman_to_action()\n\u001b[1;32m    216\u001b[0m \u001b[39m    \u001b[39m\u001b[39m\"\"\"\u001b[39;00m\n\u001b[1;32m    217\u001b[0m \u001b[39m    For multiplayer games, ask the user for a legal action\u001b[39;00m\n\u001b[1;32m    218\u001b[0m \u001b[39m    and return the corresponding action number.\u001b[39;00m\n\u001b[0;32m   (...)\u001b[0m\n\u001b[1;32m    221\u001b[0m \u001b[39m        An integer from the action space.\u001b[39;00m\n\u001b[1;32m    222\u001b[0m \u001b[39m    \"\"\"\u001b[39;00m\n\u001b[1;32m    223\u001b[0m     choice \u001b[39m=\u001b[39m \u001b[39minput\u001b[39m(\n\u001b[1;32m    224\u001b[0m         \u001b[39mf\u001b[39m\u001b[39m\"\u001b[39m\u001b[39mEnter the action (0) Hit, or (1) Stand for the player \u001b[39m\u001b[39m{\u001b[39;00m\u001b[39mself\u001b[39m\u001b[39m.\u001b[39mto_play()\u001b[39m}\u001b[39;00m\u001b[39m: \u001b[39m\u001b[39m\"\u001b[39m\n\u001b[1;32m    225\u001b[0m     )\n",
      "File \u001b[0;32m~/muzero-pg/games/traderdegen.py:293\u001b[0m, in \u001b[0;36mTraderDegen.human_to_action\u001b[0;34m(self)\u001b[0m\n\u001b[1;32m    292\u001b[0m \u001b[39mdef\u001b[39;00m \u001b[39mhuman_to_action\u001b[39m(\u001b[39mself\u001b[39m):\n\u001b[0;32m--> 293\u001b[0m     choice \u001b[39m=\u001b[39m \u001b[39minput\u001b[39;49m(\n\u001b[1;32m    294\u001b[0m         \u001b[39mf\u001b[39;49m\u001b[39m\"\u001b[39;49m\u001b[39mEnter the action \u001b[39;49m\u001b[39m{\u001b[39;49;00m\u001b[39mself\u001b[39;49m\u001b[39m.\u001b[39;49mnslots\u001b[39m}\u001b[39;49;00m\u001b[39m Do nothing, or \u001b[39;49m\u001b[39m{\u001b[39;49;00m\u001b[39mself\u001b[39;49m\u001b[39m.\u001b[39;49mnslots\u001b[39m \u001b[39;49m\u001b[39m+\u001b[39;49m\u001b[39m \u001b[39;49m\u001b[39m1\u001b[39;49m\u001b[39m}\u001b[39;49;00m\u001b[39m to open trade or index of trade to close: \u001b[39;49m\u001b[39m\"\u001b[39;49m\n\u001b[1;32m    295\u001b[0m     )\n\u001b[1;32m    296\u001b[0m     \u001b[39mwhile\u001b[39;00m choice \u001b[39mnot\u001b[39;00m \u001b[39min\u001b[39;00m [\u001b[39mstr\u001b[39m(action) \u001b[39mfor\u001b[39;00m action \u001b[39min\u001b[39;00m \u001b[39mself\u001b[39m\u001b[39m.\u001b[39mlegal_actions()]:\n\u001b[1;32m    297\u001b[0m         choice \u001b[39m=\u001b[39m \u001b[39minput\u001b[39m(\u001b[39m\"\u001b[39m\u001b[39mEnter a legal trade\u001b[39m\u001b[39m\"\u001b[39m)\n",
      "File \u001b[0;32m~/miniconda3/envs/muzr/lib/python3.9/site-packages/ipykernel/kernelbase.py:1177\u001b[0m, in \u001b[0;36mKernel.raw_input\u001b[0;34m(self, prompt)\u001b[0m\n\u001b[1;32m   1173\u001b[0m \u001b[39mif\u001b[39;00m \u001b[39mnot\u001b[39;00m \u001b[39mself\u001b[39m\u001b[39m.\u001b[39m_allow_stdin:\n\u001b[1;32m   1174\u001b[0m     \u001b[39mraise\u001b[39;00m StdinNotImplementedError(\n\u001b[1;32m   1175\u001b[0m         \u001b[39m\"\u001b[39m\u001b[39mraw_input was called, but this frontend does not support input requests.\u001b[39m\u001b[39m\"\u001b[39m\n\u001b[1;32m   1176\u001b[0m     )\n\u001b[0;32m-> 1177\u001b[0m \u001b[39mreturn\u001b[39;00m \u001b[39mself\u001b[39;49m\u001b[39m.\u001b[39;49m_input_request(\n\u001b[1;32m   1178\u001b[0m     \u001b[39mstr\u001b[39;49m(prompt),\n\u001b[1;32m   1179\u001b[0m     \u001b[39mself\u001b[39;49m\u001b[39m.\u001b[39;49m_parent_ident[\u001b[39m\"\u001b[39;49m\u001b[39mshell\u001b[39;49m\u001b[39m\"\u001b[39;49m],\n\u001b[1;32m   1180\u001b[0m     \u001b[39mself\u001b[39;49m\u001b[39m.\u001b[39;49mget_parent(\u001b[39m\"\u001b[39;49m\u001b[39mshell\u001b[39;49m\u001b[39m\"\u001b[39;49m),\n\u001b[1;32m   1181\u001b[0m     password\u001b[39m=\u001b[39;49m\u001b[39mFalse\u001b[39;49;00m,\n\u001b[1;32m   1182\u001b[0m )\n",
      "File \u001b[0;32m~/miniconda3/envs/muzr/lib/python3.9/site-packages/ipykernel/kernelbase.py:1219\u001b[0m, in \u001b[0;36mKernel._input_request\u001b[0;34m(self, prompt, ident, parent, password)\u001b[0m\n\u001b[1;32m   1216\u001b[0m             \u001b[39mbreak\u001b[39;00m\n\u001b[1;32m   1217\u001b[0m \u001b[39mexcept\u001b[39;00m \u001b[39mKeyboardInterrupt\u001b[39;00m:\n\u001b[1;32m   1218\u001b[0m     \u001b[39m# re-raise KeyboardInterrupt, to truncate traceback\u001b[39;00m\n\u001b[0;32m-> 1219\u001b[0m     \u001b[39mraise\u001b[39;00m \u001b[39mKeyboardInterrupt\u001b[39;00m(\u001b[39m\"\u001b[39m\u001b[39mInterrupted by user\u001b[39m\u001b[39m\"\u001b[39m) \u001b[39mfrom\u001b[39;00m \u001b[39mNone\u001b[39;00m\n\u001b[1;32m   1220\u001b[0m \u001b[39mexcept\u001b[39;00m \u001b[39mException\u001b[39;00m:\n\u001b[1;32m   1221\u001b[0m     \u001b[39mself\u001b[39m\u001b[39m.\u001b[39mlog\u001b[39m.\u001b[39mwarning(\u001b[39m\"\u001b[39m\u001b[39mInvalid Message:\u001b[39m\u001b[39m\"\u001b[39m, exc_info\u001b[39m=\u001b[39m\u001b[39mTrue\u001b[39;00m)\n",
      "\u001b[0;31mKeyboardInterrupt\u001b[0m: Interrupted by user"
     ]
    }
   ],
   "source": [
    "import importlib\n",
    "\n",
    "class MuZero:\n",
    "    def __init__(self, game_name, config=None, split_resources_in=1):\n",
    "        # Load the game and the config from the module with the game name\n",
    "        try:\n",
    "            game_module = importlib.import_module(\"games.\" + game_name)\n",
    "            self.Game = game_module.Game\n",
    "            self.config = game_module.MuZeroConfig()\n",
    "        except ModuleNotFoundError as err:\n",
    "            print(\n",
    "                f'{game_name} is not a supported game name, try \"cartpole\" or refer to the documentation for adding a new game.'\n",
    "            )\n",
    "            raise err\n",
    "\n",
    "\n",
    "muzero = MuZero(\"traderdegen\")\n",
    "env = muzero.Game()\n",
    "env.reset()\n",
    "env.render()\n",
    "print(\"legal actions: \", env.legal_actions())\n",
    "# env.human_to_action()\n",
    "\n",
    "# obs = env.get_observation()\n",
    "# print(obs)\n",
    "\n",
    "done = False\n",
    "while not done:\n",
    "    action = env.human_to_action()\n",
    "    observation, reward, done = env.step(action)\n",
    "    print(f\"\\nAction: {env.action_to_string(action)}\\nReward: {reward}\")\n",
    "    env.render()"
   ]
  },
  {
   "cell_type": "code",
   "execution_count": 12,
   "metadata": {},
   "outputs": [
    {
     "data": {
      "text/plain": [
       "array([0.96709348, 1.00009932, 1.01960862, 1.11089405, 1.1700756 ])"
      ]
     },
     "execution_count": 12,
     "metadata": {},
     "output_type": "execute_result"
    }
   ],
   "source": [
    "import numpy as np\n",
    "\n",
    "np.random.normal(1,0.1,5)"
   ]
  },
  {
   "cell_type": "code",
   "execution_count": 19,
   "metadata": {},
   "outputs": [
    {
     "data": {
      "text/plain": [
       "array([0.70027926, 0.        , 0.29596488, 0.42610648, 0.68202428])"
      ]
     },
     "execution_count": 19,
     "metadata": {},
     "output_type": "execute_result"
    }
   ],
   "source": [
    "import numpy as np\n",
    "age_arr = [3.0, np.nan, 7.0, 6.0, 5.0]\n",
    "ret_arr = np.where(np.isnan(age_arr),0,np.random.normal(1,0.1,5))\n",
    "ret_arr = ret_arr - np.where(np.isnan(age_arr),0,np.array(age_arr)*0.1)\n",
    "ret_arr"
   ]
  },
  {
   "cell_type": "code",
   "execution_count": 2,
   "metadata": {},
   "outputs": [
    {
     "name": "stdout",
     "output_type": "stream",
     "text": [
      "[2 0 3 0 4 0 5 6]\n"
     ]
    }
   ],
   "source": [
    "import numpy as np\n",
    "\n",
    "arr = np.array([1, 0, 2, 0, 3, 0, 4, 5])\n",
    "\n",
    "# Get the indices of the non-zero elements in arr\n",
    "nonzero_indices = np.nonzero(arr)[0]\n",
    "\n",
    "# Increment the non-zero elements by 1\n",
    "arr[nonzero_indices] += 1\n",
    "\n",
    "# Print the updated array\n",
    "print(arr)\n",
    "\n"
   ]
  },
  {
   "cell_type": "code",
   "execution_count": 8,
   "metadata": {},
   "outputs": [
    {
     "name": "stdout",
     "output_type": "stream",
     "text": [
      "[[1. 0. 0. 0. 0.]\n",
      " [2. 1. 0. 0. 0.]\n",
      " [3. 2. 1. 0. 0.]\n",
      " [4. 3. 2. 1. 0.]\n",
      " [5. 4. 3. 2. 1.]\n",
      " [0. 5. 4. 3. 2.]\n",
      " [1. 6. 5. 4. 3.]\n",
      " [2. 0. 6. 5. 4.]\n",
      " [3. 1. 7. 6. 5.]\n",
      " [4. 2. 0. 7. 6.]\n",
      " [5. 3. 1. 8. 7.]\n",
      " [6. 4. 2. 0. 8.]\n",
      " [7. 5. 3. 1. 9.]\n",
      " [8. 6. 4. 2. 0.]\n",
      " [9. 7. 5. 3. 1.]\n",
      " [0. 8. 6. 4. 2.]\n",
      " [1. 9. 7. 5. 3.]\n",
      " [2. 0. 8. 6. 4.]\n",
      " [3. 1. 9. 7. 5.]\n",
      " [4. 2. 0. 8. 6.]\n",
      " [5. 3. 1. 9. 7.]]\n",
      "[[ 0.98  0.    0.    0.    0.  ]\n",
      " [ 0.92  0.98  0.    0.    0.  ]\n",
      " [ 0.82  0.92  0.98  0.    0.  ]\n",
      " [ 0.68  0.82  0.92  0.98  0.  ]\n",
      " [ 0.5   0.68  0.82  0.92  0.98]\n",
      " [ 0.    0.5   0.68  0.82  0.92]\n",
      " [ 0.98  0.28  0.5   0.68  0.82]\n",
      " [ 0.92  0.    0.28  0.5   0.68]\n",
      " [ 0.82  0.98  0.02  0.28  0.5 ]\n",
      " [ 0.68  0.92  0.    0.02  0.28]\n",
      " [ 0.5   0.82  0.98 -0.28  0.02]\n",
      " [ 0.28  0.68  0.92  0.   -0.28]\n",
      " [ 0.02  0.5   0.82  0.98 -0.62]\n",
      " [-0.28  0.28  0.68  0.92  0.  ]\n",
      " [-0.62  0.02  0.5   0.82  0.98]\n",
      " [ 0.   -0.28  0.28  0.68  0.92]\n",
      " [ 0.98 -0.62  0.02  0.5   0.82]\n",
      " [ 0.92  0.   -0.28  0.28  0.68]\n",
      " [ 0.82  0.98 -0.62  0.02  0.5 ]\n",
      " [ 0.68  0.92  0.   -0.28  0.28]\n",
      " [ 0.5   0.82  0.98 -0.62  0.02]]\n",
      "44.50000000000001\n"
     ]
    }
   ],
   "source": [
    "import numpy as np\n",
    "\n",
    "arr = np.zeros(5)\n",
    "\n",
    "# print (arr)\n",
    "game = []\n",
    "for i in range(21):\n",
    "    \n",
    "    # if element is non zero, add 1\n",
    "    arr = np.where(arr != 0, arr + 1, arr)\n",
    "    if np.any(arr == 0):\n",
    "        # update the first zero to 1\n",
    "        arr[np.where(arr == 0)[0][0]] = 1\n",
    "    # otherwise set the largest element to 0\n",
    "    else:\n",
    "        arr[np.argmax(arr)] = 0\n",
    "    game.append(arr)    \n",
    "    \n",
    "game = np.array(game)\n",
    "print(game)\n",
    "\n",
    "# calculate the score\n",
    "# if the element is non zero, add 1 - the element * 0.1\n",
    "score = np.where(game != 0, 1 - (game**2) * 0.02, 0)\n",
    "print(score)\n",
    "print(np.sum(score))"
   ]
  }
 ],
 "metadata": {
  "kernelspec": {
   "display_name": "muzr",
   "language": "python",
   "name": "python3"
  },
  "language_info": {
   "codemirror_mode": {
    "name": "ipython",
    "version": 3
   },
   "file_extension": ".py",
   "mimetype": "text/x-python",
   "name": "python",
   "nbconvert_exporter": "python",
   "pygments_lexer": "ipython3",
   "version": "3.9.16"
  },
  "orig_nbformat": 4
 },
 "nbformat": 4,
 "nbformat_minor": 2
}
