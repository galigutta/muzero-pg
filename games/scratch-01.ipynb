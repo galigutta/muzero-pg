{
 "cells": [
  {
   "cell_type": "code",
   "execution_count": 3,
   "metadata": {},
   "outputs": [],
   "source": [
    "import torch\n",
    "\n",
    "def get_gpu_info():\n",
    "    gpu_count = torch.cuda.device_count()\n",
    "    print(f\"Available GPUs: {gpu_count}\")\n",
    "\n",
    "    for i in range(gpu_count):\n",
    "        gpu_properties = torch.cuda.get_device_properties(i)\n",
    "        print(f\"GPU {i}:\")\n",
    "        print(f\"  - Name: {gpu_properties.name}\")\n",
    "        print(f\"  - Total memory: {gpu_properties.total_memory / (1024 ** 2)} MB\")\n",
    "        print(f\"  - Capability: {gpu_properties.major}.{gpu_properties.minor}\")\n",
    "        print(f\"  - Full: {gpu_properties}\")\n",
    "\n"
   ]
  },
  {
   "cell_type": "code",
   "execution_count": 4,
   "metadata": {},
   "outputs": [
    {
     "name": "stdout",
     "output_type": "stream",
     "text": [
      "Available GPUs: 3\n",
      "GPU 0:\n",
      "  - Name: NVIDIA GeForce RTX 3090\n",
      "  - Total memory: 24268.3125 MB\n",
      "  - Capability: 8.6\n",
      "  - Full: _CudaDeviceProperties(name='NVIDIA GeForce RTX 3090', major=8, minor=6, total_memory=24268MB, multi_processor_count=82)\n",
      "GPU 1:\n",
      "  - Name: NVIDIA RTX A4000\n",
      "  - Total memory: 16117.3125 MB\n",
      "  - Capability: 8.6\n",
      "  - Full: _CudaDeviceProperties(name='NVIDIA RTX A4000', major=8, minor=6, total_memory=16117MB, multi_processor_count=48)\n",
      "GPU 2:\n",
      "  - Name: NVIDIA RTX A4000\n",
      "  - Total memory: 16117.3125 MB\n",
      "  - Capability: 8.6\n",
      "  - Full: _CudaDeviceProperties(name='NVIDIA RTX A4000', major=8, minor=6, total_memory=16117MB, multi_processor_count=48)\n"
     ]
    }
   ],
   "source": [
    "get_gpu_info()\n"
   ]
  },
  {
   "cell_type": "code",
   "execution_count": 11,
   "metadata": {},
   "outputs": [
    {
     "data": {
      "text/plain": [
       "3"
      ]
     },
     "execution_count": 11,
     "metadata": {},
     "output_type": "execute_result"
    }
   ],
   "source": [
    "import numpy \n",
    "random = numpy.random.RandomState(1234)\n",
    "random.randint(0, 10)"
   ]
  }
 ],
 "metadata": {
  "kernelspec": {
   "display_name": "muzr",
   "language": "python",
   "name": "python3"
  },
  "language_info": {
   "codemirror_mode": {
    "name": "ipython",
    "version": 3
   },
   "file_extension": ".py",
   "mimetype": "text/x-python",
   "name": "python",
   "nbconvert_exporter": "python",
   "pygments_lexer": "ipython3",
   "version": "3.9.16"
  },
  "orig_nbformat": 4
 },
 "nbformat": 4,
 "nbformat_minor": 2
}
